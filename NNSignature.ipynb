{
  "nbformat": 4,
  "nbformat_minor": 0,
  "metadata": {
    "colab": {
      "name": "NNSignature.ipynb",
      "provenance": [],
      "collapsed_sections": []
    },
    "kernelspec": {
      "name": "python3",
      "display_name": "Python 3"
    }
  },
  "cells": [
    {
      "cell_type": "code",
      "metadata": {
        "id": "VPFFZ0V2UAh_",
        "colab_type": "code",
        "colab": {}
      },
      "source": [
        "import os\n",
        "import cv2\n",
        "import io\n",
        "import pickle\n",
        "import requests\n",
        "import zipfile\n",
        "import numpy as np\n",
        "from scipy import ndimage\n",
        "from skimage.transform import resize\n",
        "from imageio import imread, imsave\n",
        "from skimage import img_as_float, color, exposure\n",
        "from skimage.feature import peak_local_max, hog\n",
        "from sklearn.svm import SVC\n",
        "from sklearn import linear_model\n",
        "from sklearn.svm import LinearSVC\n",
        "import matplotlib.cm as cm\n",
        "import matplotlib.pyplot as plt\n",
        "%matplotlib inline"
      ],
      "execution_count": 0,
      "outputs": []
    },
    {
      "cell_type": "code",
      "metadata": {
        "id": "xd1PnUh4UJjg",
        "colab_type": "code",
        "colab": {}
      },
      "source": [
        "r = requests.get('https://github.com/mf00589/COM2028/raw/master/signaturetest.zip')\n",
        "z = zipfile.ZipFile(io.BytesIO(r.content))\n",
        "z.extractall()"
      ],
      "execution_count": 0,
      "outputs": []
    },
    {
      "cell_type": "code",
      "metadata": {
        "id": "LBq0WoeHUScb",
        "colab_type": "code",
        "colab": {}
      },
      "source": [
        "DATADIR = './signaturetest'\n",
        "CATEGORIES = ['Signature1','signature2']\n",
        "\n",
        "training_data2 = []\n",
        "\n",
        "def create_training_data2():\n",
        "  for category in CATEGORIES:\n",
        "    path = os.path.join(DATADIR, category)\n",
        "    class_num = CATEGORIES.index(category)\n",
        "    for img in os.listdir(path):\n",
        "      img_array = cv2.imread(os.path.join(path,img), cv2.IMREAD_GRAYSCALE)\n",
        "      new_array = cv2.resize(img_array, (60,60))\n",
        "      training_data2.append([new_array, class_num])\n",
        "\n",
        "create_training_data2()\n"
      ],
      "execution_count": 0,
      "outputs": []
    },
    {
      "cell_type": "code",
      "metadata": {
        "id": "NmQe_7doUrHK",
        "colab_type": "code",
        "colab": {}
      },
      "source": [
        "import random \n",
        "\n",
        "random.shuffle(training_data2)"
      ],
      "execution_count": 0,
      "outputs": []
    },
    {
      "cell_type": "code",
      "metadata": {
        "id": "0z6_WmghU81R",
        "colab_type": "code",
        "colab": {}
      },
      "source": [
        "X1 = []\n",
        "y1 = []"
      ],
      "execution_count": 0,
      "outputs": []
    },
    {
      "cell_type": "code",
      "metadata": {
        "id": "PwZ4kBgRU-gG",
        "colab_type": "code",
        "colab": {}
      },
      "source": [
        "for features, label in training_data2:\n",
        "  X1.append(features)\n",
        "  y1.append(label)\n",
        "\n",
        "\n",
        "X1 = np.array(X1).reshape(-1, 60 , 60)"
      ],
      "execution_count": 0,
      "outputs": []
    },
    {
      "cell_type": "code",
      "metadata": {
        "id": "vRHtikYxVUQt",
        "colab_type": "code",
        "colab": {}
      },
      "source": [
        "X1 = X1 / 255.0\n",
        "X1.shape\n",
        "y1 = np.array(y1)"
      ],
      "execution_count": 0,
      "outputs": []
    },
    {
      "cell_type": "code",
      "metadata": {
        "id": "wumIk7TVVA7-",
        "colab_type": "code",
        "colab": {}
      },
      "source": [
        "from sklearn.model_selection import  train_test_split\n",
        "import tensorflow as tf\n",
        "from tensorflow import keras"
      ],
      "execution_count": 0,
      "outputs": []
    },
    {
      "cell_type": "code",
      "metadata": {
        "id": "-oK16qtEVESe",
        "colab_type": "code",
        "colab": {}
      },
      "source": [
        "X_train, X_test, y_train, y_test = train_test_split(X1, y1)"
      ],
      "execution_count": 0,
      "outputs": []
    },
    {
      "cell_type": "code",
      "metadata": {
        "id": "lnNuBdZLVNNW",
        "colab_type": "code",
        "outputId": "b67d11a6-ba05-4199-f1bb-5fd5762c15dc",
        "colab": {
          "base_uri": "https://localhost:8080/",
          "height": 295
        }
      },
      "source": [
        "\n",
        "model = keras.Sequential([\n",
        "    keras.layers.Flatten(input_shape=(60, 60)),\n",
        "    keras.layers.Dense(128, activation='relu'),\n",
        "    keras.layers.Dense(35)\n",
        "])\n",
        "\n",
        "model.compile(optimizer='adam',\n",
        "              loss=tf.keras.losses.SparseCategoricalCrossentropy(from_logits=True),\n",
        "              metrics=['accuracy'])\n",
        "\n",
        "history = model.fit(X_train, y_train, epochs=8,validation_data=(X_test, y_test))"
      ],
      "execution_count": 0,
      "outputs": [
        {
          "output_type": "stream",
          "text": [
            "Epoch 1/8\n",
            "3/3 [==============================] - 0s 40ms/step - loss: 3.0994 - accuracy: 0.3500 - val_loss: 1.7241 - val_accuracy: 0.4074\n",
            "Epoch 2/8\n",
            "3/3 [==============================] - 0s 14ms/step - loss: 1.8384 - accuracy: 0.5375 - val_loss: 1.4100 - val_accuracy: 0.5926\n",
            "Epoch 3/8\n",
            "3/3 [==============================] - 0s 14ms/step - loss: 1.2046 - accuracy: 0.5375 - val_loss: 0.9801 - val_accuracy: 0.4074\n",
            "Epoch 4/8\n",
            "3/3 [==============================] - 0s 14ms/step - loss: 1.0180 - accuracy: 0.5375 - val_loss: 0.9023 - val_accuracy: 0.5926\n",
            "Epoch 5/8\n",
            "3/3 [==============================] - 0s 14ms/step - loss: 0.8329 - accuracy: 0.5125 - val_loss: 0.8724 - val_accuracy: 0.4074\n",
            "Epoch 6/8\n",
            "3/3 [==============================] - 0s 14ms/step - loss: 0.8245 - accuracy: 0.4625 - val_loss: 0.6981 - val_accuracy: 0.5926\n",
            "Epoch 7/8\n",
            "3/3 [==============================] - 0s 16ms/step - loss: 0.5851 - accuracy: 0.6625 - val_loss: 0.6665 - val_accuracy: 0.5556\n",
            "Epoch 8/8\n",
            "3/3 [==============================] - 0s 14ms/step - loss: 0.5626 - accuracy: 0.7125 - val_loss: 0.6366 - val_accuracy: 0.6296\n"
          ],
          "name": "stdout"
        }
      ]
    },
    {
      "cell_type": "code",
      "metadata": {
        "id": "AwRHY2aLXDHj",
        "colab_type": "code",
        "colab": {}
      },
      "source": [
        "import matplotlib.pyplot as plt"
      ],
      "execution_count": 0,
      "outputs": []
    },
    {
      "cell_type": "code",
      "metadata": {
        "id": "EQqGHpHPVs0e",
        "colab_type": "code",
        "outputId": "120115f4-53f8-458a-f327-c5334faa6bde",
        "colab": {
          "base_uri": "https://localhost:8080/",
          "height": 301
        }
      },
      "source": [
        "plt.plot(history.history['accuracy'], label='accuracy')\n",
        "plt.plot(history.history['val_accuracy'], label = 'val_accuracy')\n",
        "plt.xlabel('Epoch')\n",
        "plt.ylabel('Accuracy')\n",
        "plt.ylim([0.3, 1])\n",
        "plt.legend(loc='lower right')"
      ],
      "execution_count": 0,
      "outputs": [
        {
          "output_type": "execute_result",
          "data": {
            "text/plain": [
              "<matplotlib.legend.Legend at 0x7feb6f8d6dd8>"
            ]
          },
          "metadata": {
            "tags": []
          },
          "execution_count": 16
        },
        {
          "output_type": "display_data",
          "data": {
            "image/png": "[encoded data removed]",
            "text/plain": [
              "<Figure size 432x288 with 1 Axes>"
            ]
          },
          "metadata": {
            "tags": [],
            "needs_background": "light"
          }
        }
      ]
    },
    {
      "cell_type": "code",
      "metadata": {
        "id": "Vy_YnJ-BW6vL",
        "colab_type": "code",
        "colab": {}
      },
      "source": [
        ""
      ],
      "execution_count": 0,
      "outputs": []
    }
  ]
}