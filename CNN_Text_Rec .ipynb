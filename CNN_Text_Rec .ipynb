{
  "nbformat": 4,
  "nbformat_minor": 0,
  "metadata": {
    "colab": {
      "name": "CNN_Text_Rec.ipynb",
      "provenance": [],
      "collapsed_sections": []
    },
    "kernelspec": {
      "name": "python3",
      "display_name": "Python 3"
    }
  },
  "cells": [
    {
      "cell_type": "code",
      "metadata": {
        "id": "nq7yCnBIH_ln",
        "colab_type": "code",
        "colab": {}
      },
      "source": [
        "import os\n",
        "import cv2\n",
        "import io\n",
        "import pickle\n",
        "import requests\n",
        "import zipfile\n",
        "import numpy as np\n",
        "from scipy import ndimage\n",
        "from skimage.transform import resize\n",
        "from imageio import imread, imsave\n",
        "from skimage import img_as_float, color, exposure\n",
        "from skimage.feature import peak_local_max, hog\n",
        "from sklearn.svm import SVC\n",
        "from sklearn import linear_model\n",
        "from sklearn.svm import LinearSVC\n",
        "import matplotlib.cm as cm\n",
        "import matplotlib.pyplot as plt\n",
        "%matplotlib inline"
      ],
      "execution_count": 0,
      "outputs": []
    },
    {
      "cell_type": "code",
      "metadata": {
        "id": "ATeEZEOkIDMm",
        "colab_type": "code",
        "colab": {}
      },
      "source": [
        "r1 = requests.get('https://github.com/mf00589/COM2028/raw/master/training_letters.zip')\n",
        "z1 = zipfile.ZipFile(io.BytesIO(r1.content))\n",
        "z1.extractall()"
      ],
      "execution_count": 0,
      "outputs": []
    },
    {
      "cell_type": "code",
      "metadata": {
        "id": "D6tmE-AZIJFM",
        "colab_type": "code",
        "colab": {}
      },
      "source": [
        "path_1 = './training_type/'\n",
        "one_filenames = sorted([filename for filename in os.listdir(path_1) if (filename.endswith('.jpg') or filename.endswith('.png') or (filename.endswith('.bmp'))) ])\n",
        "DATADIR = './training_type'\n",
        "CATEGORIES = ['1','2','3','4','5','6','7','8','9','a','b','c','d','e','f','g','h','i','j','k','l','m','n','o','p','q','r','s','t','u','v','w','x','y','z']"
      ],
      "execution_count": 0,
      "outputs": []
    },
    {
      "cell_type": "code",
      "metadata": {
        "id": "Kp7yQFJeIRI1",
        "colab_type": "code",
        "colab": {}
      },
      "source": [
        "training_data2 = []\n",
        "\n",
        "def create_training_data2():\n",
        "  for category in CATEGORIES:\n",
        "    path = os.path.join(DATADIR, category)\n",
        "    class_num = CATEGORIES.index(category)\n",
        "    for img in os.listdir(path):\n",
        "      img_array = cv2.imread(os.path.join(path,img), cv2.IMREAD_GRAYSCALE)\n",
        "      new_array = cv2.resize(img_array, (200,200))\n",
        "      training_data2.append([new_array, class_num])\n",
        "\n",
        "create_training_data2()"
      ],
      "execution_count": 0,
      "outputs": []
    },
    {
      "cell_type": "code",
      "metadata": {
        "id": "LxwXfE9_ITni",
        "colab_type": "code",
        "outputId": "473a0c0f-e037-48a2-b665-97858127845a",
        "colab": {
          "base_uri": "https://localhost:8080/",
          "height": 35
        }
      },
      "source": [
        "print(len(training_data2))"
      ],
      "execution_count": 0,
      "outputs": [
        {
          "output_type": "stream",
          "text": [
            "2745\n"
          ],
          "name": "stdout"
        }
      ]
    },
    {
      "cell_type": "code",
      "metadata": {
        "id": "DZwN8JMvIfm1",
        "colab_type": "code",
        "colab": {}
      },
      "source": [
        "import random \n",
        "\n",
        "random.shuffle(training_data2)"
      ],
      "execution_count": 0,
      "outputs": []
    },
    {
      "cell_type": "code",
      "metadata": {
        "id": "-hMhJqttIhaB",
        "colab_type": "code",
        "colab": {}
      },
      "source": [
        "X1 = []\n",
        "y1 = []"
      ],
      "execution_count": 0,
      "outputs": []
    },
    {
      "cell_type": "code",
      "metadata": {
        "id": "da1Ide_1IjPI",
        "colab_type": "code",
        "colab": {}
      },
      "source": [
        "for features, label in training_data2:\n",
        "  X1.append(features)\n",
        "  y1.append(label)\n",
        "\n",
        "\n",
        "X1 = np.array(X1).reshape(-1, 200 , 200, 1)"
      ],
      "execution_count": 0,
      "outputs": []
    },
    {
      "cell_type": "code",
      "metadata": {
        "id": "HHd8p4oZImE7",
        "colab_type": "code",
        "outputId": "247d2847-5ea8-4570-e972-70c37dacaced",
        "colab": {
          "base_uri": "https://localhost:8080/",
          "height": 69
        }
      },
      "source": [
        "X1.shape\n",
        "print(len(X1))\n",
        "print(len(y1))\n",
        "y1[32]\n",
        "y1 = np.array(y1)\n",
        "y1[67]"
      ],
      "execution_count": 0,
      "outputs": [
        {
          "output_type": "stream",
          "text": [
            "2745\n",
            "2745\n"
          ],
          "name": "stdout"
        },
        {
          "output_type": "execute_result",
          "data": {
            "text/plain": [
              "16"
            ]
          },
          "metadata": {
            "tags": []
          },
          "execution_count": 11
        }
      ]
    },
    {
      "cell_type": "code",
      "metadata": {
        "id": "gBeCTkYMXqWq",
        "colab_type": "code",
        "colab": {}
      },
      "source": [
        ""
      ],
      "execution_count": 0,
      "outputs": []
    },
    {
      "cell_type": "code",
      "metadata": {
        "id": "S43xkhw0IpAl",
        "colab_type": "code",
        "colab": {}
      },
      "source": [
        "import tensorflow as tf\n",
        "\n",
        "from tensorflow.keras import datasets, layers, models\n",
        "import matplotlib.pyplot as plt\n",
        "\n",
        "model = models.Sequential()\n",
        "model.add(layers.Conv2D(32, (3, 3), activation='relu', input_shape=(200, 200, 1)))\n",
        "model.add(layers.MaxPooling2D((2, 2)))\n",
        "model.add(layers.Conv2D(64, (3, 3), activation='relu'))\n",
        "model.add(layers.MaxPooling2D((2, 2)))\n",
        "model.add(layers.Conv2D(64, (3, 3), activation='relu'))"
      ],
      "execution_count": 0,
      "outputs": []
    },
    {
      "cell_type": "code",
      "metadata": {
        "id": "cRt_uPVdRJQy",
        "colab_type": "code",
        "outputId": "c2e8265e-d3b1-4ab7-9903-a94c2493c358",
        "colab": {
          "base_uri": "https://localhost:8080/",
          "height": 329
        }
      },
      "source": [
        "model.summary()"
      ],
      "execution_count": 0,
      "outputs": [
        {
          "output_type": "stream",
          "text": [
            "Model: \"sequential\"\n",
            "_________________________________________________________________\n",
            "Layer (type)                 Output Shape              Param #   \n",
            "=================================================================\n",
            "conv2d (Conv2D)              (None, 198, 198, 32)      320       \n",
            "_________________________________________________________________\n",
            "max_pooling2d (MaxPooling2D) (None, 99, 99, 32)        0         \n",
            "_________________________________________________________________\n",
            "conv2d_1 (Conv2D)            (None, 97, 97, 64)        18496     \n",
            "_________________________________________________________________\n",
            "max_pooling2d_1 (MaxPooling2 (None, 48, 48, 64)        0         \n",
            "_________________________________________________________________\n",
            "conv2d_2 (Conv2D)            (None, 46, 46, 64)        36928     \n",
            "=================================================================\n",
            "Total params: 55,744\n",
            "Trainable params: 55,744\n",
            "Non-trainable params: 0\n",
            "_________________________________________________________________\n"
          ],
          "name": "stdout"
        }
      ]
    },
    {
      "cell_type": "code",
      "metadata": {
        "id": "CsvGvgSURL-3",
        "colab_type": "code",
        "colab": {}
      },
      "source": [
        "model.add(layers.Flatten())\n",
        "model.add(layers.Dense(64, activation='relu'))\n",
        "model.add(layers.Dense(35))"
      ],
      "execution_count": 0,
      "outputs": []
    },
    {
      "cell_type": "code",
      "metadata": {
        "id": "OftW8Kn8RQVH",
        "colab_type": "code",
        "outputId": "fe320b50-3e15-48d6-8a9c-a3bc3bcfb07b",
        "colab": {
          "base_uri": "https://localhost:8080/",
          "height": 121
        }
      },
      "source": [
        "model.compile(optimizer='adam',\n",
        "              loss=tf.keras.losses.SparseCategoricalCrossentropy(from_logits=True),\n",
        "              metrics=['accuracy'])\n",
        "\n",
        "history = model.fit(X1, y1, epochs=3)"
      ],
      "execution_count": 0,
      "outputs": [
        {
          "output_type": "stream",
          "text": [
            "Epoch 1/3\n",
            "86/86 [==============================] - 152s 2s/step - loss: 9.6334 - accuracy: 0.4769\n",
            "Epoch 2/3\n",
            "86/86 [==============================] - 154s 2s/step - loss: 0.5535 - accuracy: 0.8594\n",
            "Epoch 3/3\n",
            "86/86 [==============================] - 147s 2s/step - loss: 0.1923 - accuracy: 0.9468\n"
          ],
          "name": "stdout"
        }
      ]
    },
    {
      "cell_type": "code",
      "metadata": {
        "id": "tJamIuCdRS0G",
        "colab_type": "code",
        "colab": {}
      },
      "source": [
        ""
      ],
      "execution_count": 0,
      "outputs": []
    }
  ]
}