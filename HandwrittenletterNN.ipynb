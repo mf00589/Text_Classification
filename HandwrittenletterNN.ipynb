{
  "nbformat": 4,
  "nbformat_minor": 0,
  "metadata": {
    "colab": {
      "name": "Handwrittenlettercnn.ipynb",
      "provenance": [],
      "collapsed_sections": []
    },
    "kernelspec": {
      "name": "python3",
      "display_name": "Python 3"
    }
  },
  "cells": [
    {
      "cell_type": "code",
      "metadata": {
        "id": "BYosCmG8U2bg",
        "colab_type": "code",
        "colab": {}
      },
      "source": [
        "import os\n",
        "import cv2\n",
        "import io\n",
        "import pickle\n",
        "import requests\n",
        "import zipfile\n",
        "import numpy as np\n",
        "from scipy import ndimage\n",
        "from skimage.transform import resize\n",
        "from imageio import imread, imsave\n",
        "from skimage import img_as_float, color, exposure\n",
        "from skimage.feature import peak_local_max, hog\n",
        "from sklearn.svm import SVC\n",
        "from sklearn import linear_model\n",
        "from sklearn.svm import LinearSVC\n",
        "import matplotlib.cm as cm\n",
        "import matplotlib.pyplot as plt\n",
        "%matplotlib inline\n"
      ],
      "execution_count": 0,
      "outputs": []
    },
    {
      "cell_type": "code",
      "metadata": {
        "id": "kYlh0ct9U6ap",
        "colab_type": "code",
        "colab": {}
      },
      "source": [
        "r1 = requests.get('https://github.com/mf00589/COM2028/raw/master/handwritdata.zip')\n",
        "z1 = zipfile.ZipFile(io.BytesIO(r1.content))\n",
        "z1.extractall()"
      ],
      "execution_count": 0,
      "outputs": []
    },
    {
      "cell_type": "code",
      "metadata": {
        "id": "AJ9_L9UuVSo4",
        "colab_type": "code",
        "colab": {}
      },
      "source": [
        "DATADIR = './handwrit/'\n",
        "CATEGORIES = ['a','b','c','d','e','f','g','h','i','j','k','l','m','n','o','p','q','r','s','t','u','v','w','x','y','z']"
      ],
      "execution_count": 0,
      "outputs": []
    },
    {
      "cell_type": "code",
      "metadata": {
        "id": "K2dZ7s6hFd3c",
        "colab_type": "code",
        "outputId": "c837732b-8d87-436e-a228-565b6efa6843",
        "colab": {
          "base_uri": "https://localhost:8080/",
          "height": 268
        }
      },
      "source": [
        "for category in CATEGORIES:\n",
        "  path = os.path.join(DATADIR, category)\n",
        "  for img in os.listdir(path):\n",
        "    img_array = cv2.imread(os.path.join(path,img))\n",
        "    new_array = cv2.resize(img_array, (60,60))\n",
        "    plt.imshow(new_array)\n",
        "    plt.show()\n",
        "    break\n",
        "  break"
      ],
      "execution_count": 0,
      "outputs": [
        {
          "output_type": "display_data",
          "data": {
            "image/png": "[encoded data removed]",
            "text/plain": [
              "<Figure size 432x288 with 1 Axes>"
            ]
          },
          "metadata": {
            "tags": [],
            "needs_background": "light"
          }
        }
      ]
    },
    {
      "cell_type": "code",
      "metadata": {
        "id": "2W9R-QqQVeBk",
        "colab_type": "code",
        "colab": {}
      },
      "source": [
        "training_data2 = []\n",
        "\n",
        "def create_training_data2():\n",
        "  for category in CATEGORIES:\n",
        "    path = os.path.join(DATADIR, category)\n",
        "    class_num = CATEGORIES.index(category)\n",
        "    for img in os.listdir(path):\n",
        "      img_array = cv2.imread(os.path.join(path,img),cv2.IMREAD_GRAYSCALE)\n",
        "      new_array = cv2.resize(img_array, (60,60))\n",
        "      training_data2.append([new_array, class_num])\n",
        "\n",
        "create_training_data2()"
      ],
      "execution_count": 0,
      "outputs": []
    },
    {
      "cell_type": "code",
      "metadata": {
        "id": "6GQUE9uMVgoj",
        "colab_type": "code",
        "outputId": "12ba2d4e-867b-43b2-9b80-e2d6df960f1c",
        "colab": {
          "base_uri": "https://localhost:8080/",
          "height": 35
        }
      },
      "source": [
        "print(len(training_data2))"
      ],
      "execution_count": 0,
      "outputs": [
        {
          "output_type": "stream",
          "text": [
            "318\n"
          ],
          "name": "stdout"
        }
      ]
    },
    {
      "cell_type": "code",
      "metadata": {
        "id": "EjnWowEvVpzb",
        "colab_type": "code",
        "colab": {}
      },
      "source": [
        "import random \n",
        "\n",
        "random.shuffle(training_data2)"
      ],
      "execution_count": 0,
      "outputs": []
    },
    {
      "cell_type": "code",
      "metadata": {
        "id": "FAGZ86VNV3RA",
        "colab_type": "code",
        "colab": {}
      },
      "source": [
        "X1 = []\n",
        "y1 = []"
      ],
      "execution_count": 0,
      "outputs": []
    },
    {
      "cell_type": "code",
      "metadata": {
        "id": "oJz8DRsjV47I",
        "colab_type": "code",
        "colab": {}
      },
      "source": [
        "for features, label in training_data2:\n",
        "  X1.append(features)\n",
        "  y1.append(label)\n",
        "\n",
        "\n"
      ],
      "execution_count": 0,
      "outputs": []
    },
    {
      "cell_type": "code",
      "metadata": {
        "id": "RFNOAg8XV6q1",
        "colab_type": "code",
        "outputId": "a962abcf-225c-4d97-d327-ea1effb57979",
        "colab": {
          "base_uri": "https://localhost:8080/",
          "height": 52
        }
      },
      "source": [
        "#X1.shape\n",
        "X1 = np.array(X1).reshape(-1, 60 , 60, 1)\n",
        "print(len(X1))\n",
        "print(len(y1))\n",
        "#y1[32]\n",
        "y1 = np.array(y1)\n",
        "#y1[67]"
      ],
      "execution_count": 0,
      "outputs": [
        {
          "output_type": "stream",
          "text": [
            "318\n",
            "318\n"
          ],
          "name": "stdout"
        }
      ]
    },
    {
      "cell_type": "code",
      "metadata": {
        "id": "lvZULHRkkXai",
        "colab_type": "code",
        "colab": {}
      },
      "source": [
        "from sklearn.model_selection import  train_test_split"
      ],
      "execution_count": 0,
      "outputs": []
    },
    {
      "cell_type": "code",
      "metadata": {
        "id": "lz0fjkn3kH8H",
        "colab_type": "code",
        "colab": {}
      },
      "source": [
        "X_train, X_test, y_train, y_test = train_test_split(X1, y1)"
      ],
      "execution_count": 0,
      "outputs": []
    },
    {
      "cell_type": "code",
      "metadata": {
        "id": "9-rM0Gx1kxzX",
        "colab_type": "code",
        "outputId": "106c6b80-820e-488d-89b7-319737ac7771",
        "colab": {
          "base_uri": "https://localhost:8080/",
          "height": 52
        }
      },
      "source": [
        "print(len(X_train))\n",
        "print(len(X_test))"
      ],
      "execution_count": 0,
      "outputs": [
        {
          "output_type": "stream",
          "text": [
            "238\n",
            "80\n"
          ],
          "name": "stdout"
        }
      ]
    },
    {
      "cell_type": "code",
      "metadata": {
        "id": "_H5kggcOKmfy",
        "colab_type": "code",
        "outputId": "faff4ff2-bbc3-454e-bb5b-0af4af4a1952",
        "colab": {
          "base_uri": "https://localhost:8080/",
          "height": 303
        }
      },
      "source": [
        "print(len(X_train))\n",
        "plt.imshow(tf.squeeze(X_train[3]))\n",
        "plt.show()\n",
        "y_train[3]"
      ],
      "execution_count": 0,
      "outputs": [
        {
          "output_type": "stream",
          "text": [
            "238\n"
          ],
          "name": "stdout"
        },
        {
          "output_type": "display_data",
          "data": {
            "image/png": "[encoded data removed]",
            "text/plain": [
              "<Figure size 432x288 with 1 Axes>"
            ]
          },
          "metadata": {
            "tags": [],
            "needs_background": "light"
          }
        },
        {
          "output_type": "execute_result",
          "data": {
            "text/plain": [
              "19"
            ]
          },
          "metadata": {
            "tags": []
          },
          "execution_count": 493
        }
      ]
    },
    {
      "cell_type": "code",
      "metadata": {
        "id": "RFuyO2HXPt6T",
        "colab_type": "code",
        "outputId": "e91a063e-40f4-4f50-da18-43bad88da4dc",
        "colab": {
          "base_uri": "https://localhost:8080/",
          "height": 867
        }
      },
      "source": [
        "X_train[3]"
      ],
      "execution_count": 0,
      "outputs": [
        {
          "output_type": "execute_result",
          "data": {
            "text/plain": [
              "array([[[0],\n",
              "        [0],\n",
              "        [0],\n",
              "        ...,\n",
              "        [0],\n",
              "        [0],\n",
              "        [0]],\n",
              "\n",
              "       [[0],\n",
              "        [0],\n",
              "        [0],\n",
              "        ...,\n",
              "        [0],\n",
              "        [0],\n",
              "        [0]],\n",
              "\n",
              "       [[0],\n",
              "        [0],\n",
              "        [0],\n",
              "        ...,\n",
              "        [0],\n",
              "        [0],\n",
              "        [0]],\n",
              "\n",
              "       ...,\n",
              "\n",
              "       [[0],\n",
              "        [0],\n",
              "        [0],\n",
              "        ...,\n",
              "        [0],\n",
              "        [0],\n",
              "        [0]],\n",
              "\n",
              "       [[0],\n",
              "        [0],\n",
              "        [0],\n",
              "        ...,\n",
              "        [0],\n",
              "        [0],\n",
              "        [0]],\n",
              "\n",
              "       [[0],\n",
              "        [0],\n",
              "        [0],\n",
              "        ...,\n",
              "        [0],\n",
              "        [0],\n",
              "        [0]]], dtype=uint8)"
            ]
          },
          "metadata": {
            "tags": []
          },
          "execution_count": 494
        }
      ]
    },
    {
      "cell_type": "code",
      "metadata": {
        "id": "NkXAup8HV8Rb",
        "colab_type": "code",
        "outputId": "d8d111a0-7a00-4c72-bece-9dbf1500a84f",
        "colab": {
          "base_uri": "https://localhost:8080/",
          "height": 364
        }
      },
      "source": [
        "import tensorflow as tf\n",
        "from tensorflow import keras\n",
        "X1 = X1 / 255.0\n",
        "X1.shape\n",
        "\n",
        "y1=np.array(y1)\n",
        "X_train, X_test, y_train, y_test = train_test_split(X1, y1)\n",
        "model = keras.Sequential([\n",
        "    keras.layers.Flatten(input_shape=(60, 60)),\n",
        "    keras.layers.Dense(128, activation='relu'),\n",
        "    keras.layers.Dense(40)\n",
        "])\n",
        "\n",
        "model.compile(optimizer='adam',\n",
        "              loss=tf.keras.losses.SparseCategoricalCrossentropy(from_logits=True),\n",
        "              metrics=['accuracy'])\n",
        "\n",
        "history = model.fit(X_train, y_train, epochs=10,validation_data=(X_test,y_test))"
      ],
      "execution_count": 0,
      "outputs": [
        {
          "output_type": "stream",
          "text": [
            "Epoch 1/10\n",
            "8/8 [==============================] - 0s 34ms/step - loss: 2.8883 - accuracy: 0.3403 - val_loss: 2.0573 - val_accuracy: 0.5000\n",
            "Epoch 2/10\n",
            "8/8 [==============================] - 0s 16ms/step - loss: 1.2207 - accuracy: 0.7437 - val_loss: 1.2745 - val_accuracy: 0.6875\n",
            "Epoch 3/10\n",
            "8/8 [==============================] - 0s 17ms/step - loss: 0.5186 - accuracy: 0.9286 - val_loss: 1.1576 - val_accuracy: 0.7500\n",
            "Epoch 4/10\n",
            "8/8 [==============================] - 0s 16ms/step - loss: 0.2212 - accuracy: 0.9832 - val_loss: 0.9750 - val_accuracy: 0.7875\n",
            "Epoch 5/10\n",
            "8/8 [==============================] - 0s 16ms/step - loss: 0.1008 - accuracy: 0.9958 - val_loss: 0.9220 - val_accuracy: 0.8250\n",
            "Epoch 6/10\n",
            "8/8 [==============================] - 0s 16ms/step - loss: 0.0533 - accuracy: 1.0000 - val_loss: 0.9210 - val_accuracy: 0.8125\n",
            "Epoch 7/10\n",
            "8/8 [==============================] - 0s 14ms/step - loss: 0.0340 - accuracy: 1.0000 - val_loss: 0.9461 - val_accuracy: 0.8125\n",
            "Epoch 8/10\n",
            "8/8 [==============================] - 0s 10ms/step - loss: 0.0228 - accuracy: 1.0000 - val_loss: 0.9652 - val_accuracy: 0.8125\n",
            "Epoch 9/10\n",
            "8/8 [==============================] - 0s 10ms/step - loss: 0.0168 - accuracy: 1.0000 - val_loss: 0.9811 - val_accuracy: 0.8125\n",
            "Epoch 10/10\n",
            "8/8 [==============================] - 0s 10ms/step - loss: 0.0135 - accuracy: 1.0000 - val_loss: 0.9776 - val_accuracy: 0.8125\n"
          ],
          "name": "stdout"
        }
      ]
    },
    {
      "cell_type": "code",
      "metadata": {
        "id": "RDE2-mw-vX44",
        "colab_type": "code",
        "outputId": "e4863c7d-cb89-48a9-ece9-2f8219c30751",
        "colab": {
          "base_uri": "https://localhost:8080/",
          "height": 301
        }
      },
      "source": [
        "plt.plot(history.history['accuracy'], label='accuracy')\n",
        "plt.plot(history.history['val_accuracy'], label = 'val_accuracy')\n",
        "plt.xlabel('Epoch')\n",
        "plt.ylabel('Accuracy')\n",
        "plt.ylim([0.4, 1.2])\n",
        "plt.legend(loc='lower right')"
      ],
      "execution_count": 0,
      "outputs": [
        {
          "output_type": "execute_result",
          "data": {
            "text/plain": [
              "<matplotlib.legend.Legend at 0x7faf8c59ab38>"
            ]
          },
          "metadata": {
            "tags": []
          },
          "execution_count": 497
        },
        {
          "output_type": "display_data",
          "data": {
            "image/png": "[encoded data removed]",
            "text/plain": [
              "<Figure size 432x288 with 1 Axes>"
            ]
          },
          "metadata": {
            "tags": [],
            "needs_background": "light"
          }
        }
      ]
    },
    {
      "cell_type": "code",
      "metadata": {
        "id": "K_JeOFLo6as-",
        "colab_type": "code",
        "colab": {}
      },
      "source": [
        ""
      ],
      "execution_count": 0,
      "outputs": []
    }
  ]
}